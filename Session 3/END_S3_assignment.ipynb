{
  "nbformat": 4,
  "nbformat_minor": 0,
  "metadata": {
    "colab": {
      "name": "END_S3_assignment.ipynb",
      "provenance": [],
      "collapsed_sections": []
    },
    "kernelspec": {
      "name": "python3",
      "display_name": "Python 3"
    }
  },
  "cells": [
    {
      "cell_type": "markdown",
      "metadata": {
        "id": "nsqjpxN_NKsf"
      },
      "source": [
        "### __1.__ Write a function using only list filter lambda that can tell whether a number is a Fibonacci number or not. You can use a pre-calculated list/dict to store fab numbers till 10000"
      ]
    },
    {
      "cell_type": "code",
      "metadata": {
        "id": "gmzN5GLuY6eH"
      },
      "source": [
        "# Precomputing Fibonacci numbers less than 10000\n",
        "def Fib(count): \n",
        "    fib_list = [1, 1] \n",
        "    any(map(lambda _: fib_list.append(sum(fib_list[-2:])), \n",
        "                                         range(2, count))) \n",
        "    return fib_list[:count] \n",
        "\n",
        "fib_lt_10k = Fib(20)"
      ],
      "execution_count": 47,
      "outputs": []
    },
    {
      "cell_type": "code",
      "metadata": {
        "id": "Vx__sb7oNWSN",
        "outputId": "57c93b46-2676-46fa-827f-a61a7aba323f",
        "colab": {
          "base_uri": "https://localhost:8080/"
        }
      },
      "source": [
        "def check_fib(n):\n",
        "    return n in fib_lt_10k\n",
        "\n",
        "check_fib(5)"
      ],
      "execution_count": 79,
      "outputs": [
        {
          "output_type": "execute_result",
          "data": {
            "text/plain": [
              "True"
            ]
          },
          "metadata": {
            "tags": []
          },
          "execution_count": 79
        }
      ]
    },
    {
      "cell_type": "markdown",
      "metadata": {
        "id": "uak3GLnHTSWG"
      },
      "source": [
        "### __2.__ Using list comprehension (and zip, lambda, etc if required) write five different expressions that: "
      ]
    },
    {
      "cell_type": "markdown",
      "metadata": {
        "id": "8Mfb4oJSbSCI"
      },
      "source": [
        "1. add 2 iterables a and b such that a is even and b is odd"
      ]
    },
    {
      "cell_type": "code",
      "metadata": {
        "id": "kf_13stiTjGT",
        "outputId": "ee2eb8eb-ee55-4400-e374-da02d678b6d7",
        "colab": {
          "base_uri": "https://localhost:8080/"
        }
      },
      "source": [
        "def add_iterables(list1, list2):\n",
        "    return sum([num for num in list1 if num % 2 == 0]) + \\\n",
        "               sum([num for num in list2 if num % 2 == 1])\n",
        "\n",
        "add_iterables(range(10), range(10))"
      ],
      "execution_count": 133,
      "outputs": [
        {
          "output_type": "execute_result",
          "data": {
            "text/plain": [
              "45"
            ]
          },
          "metadata": {
            "tags": []
          },
          "execution_count": 133
        }
      ]
    },
    {
      "cell_type": "markdown",
      "metadata": {
        "id": "6s50K-s8bUYO"
      },
      "source": [
        "2. strips every vowel from a string provided (tsai>>t s)\n"
      ]
    },
    {
      "cell_type": "code",
      "metadata": {
        "id": "KEHBHPa9Uswt",
        "outputId": "393ac524-1c5b-4a28-8d06-4febe0e5ca78",
        "colab": {
          "base_uri": "https://localhost:8080/",
          "height": 35
        }
      },
      "source": [
        "def filter_vowels(string):\n",
        "    return ' '.join([letter for letter in string \n",
        "                     if letter in ['a', 'e', 'i', 'o', 'u']])\n",
        "\n",
        "filter_vowels(\"qwertyuiopasdfghjklzxcvbnm\")"
      ],
      "execution_count": 24,
      "outputs": [
        {
          "output_type": "execute_result",
          "data": {
            "application/vnd.google.colaboratory.intrinsic+json": {
              "type": "string"
            },
            "text/plain": [
              "'e u i o a'"
            ]
          },
          "metadata": {
            "tags": []
          },
          "execution_count": 24
        }
      ]
    },
    {
      "cell_type": "markdown",
      "metadata": {
        "id": "GGrUupwebWHi"
      },
      "source": [
        "3. acts like a ReLU function for a 1D array\n"
      ]
    },
    {
      "cell_type": "code",
      "metadata": {
        "id": "keljMKOpVE1j",
        "outputId": "a2ff2590-a44f-4939-fe69-f56962f99080",
        "colab": {
          "base_uri": "https://localhost:8080/"
        }
      },
      "source": [
        "def ReLU(list1):\n",
        "    return [max(0,ele) for ele in list1]\n",
        "\n",
        "ReLU(range(-5,5))"
      ],
      "execution_count": 28,
      "outputs": [
        {
          "output_type": "execute_result",
          "data": {
            "text/plain": [
              "[0, 0, 0, 0, 0, 0, 1, 2, 3, 4]"
            ]
          },
          "metadata": {
            "tags": []
          },
          "execution_count": 28
        }
      ]
    },
    {
      "cell_type": "markdown",
      "metadata": {
        "id": "if23UZIQbYe6"
      },
      "source": [
        "4. acts like a sigmoid function for a 1D array\n"
      ]
    },
    {
      "cell_type": "code",
      "metadata": {
        "id": "vl7j53jMWpB3",
        "outputId": "2faedbdc-0928-4243-dfda-cfd09a1cb5a6",
        "colab": {
          "base_uri": "https://localhost:8080/"
        }
      },
      "source": [
        "import numpy as np\n",
        "def sigmoid(list1):\n",
        "    return [round(1 / (1 + np.exp(-ele)), 5) for ele in list1]\n",
        "\n",
        "sigmoid(np.arange(-1,1,0.2))"
      ],
      "execution_count": 35,
      "outputs": [
        {
          "output_type": "execute_result",
          "data": {
            "text/plain": [
              "[0.26894,\n",
              " 0.31003,\n",
              " 0.35434,\n",
              " 0.40131,\n",
              " 0.45017,\n",
              " 0.5,\n",
              " 0.54983,\n",
              " 0.59869,\n",
              " 0.64566,\n",
              " 0.68997]"
            ]
          },
          "metadata": {
            "tags": []
          },
          "execution_count": 35
        }
      ]
    },
    {
      "cell_type": "markdown",
      "metadata": {
        "id": "ySPWrycJbdED"
      },
      "source": [
        "5. takes a small character string and shifts all characters by 5 (handle boundary conditions) tsai>>yxfn"
      ]
    },
    {
      "cell_type": "code",
      "metadata": {
        "id": "qU4-jD4wXJS0",
        "outputId": "bcec245a-bec5-479e-81b7-a4ad458ba6ad",
        "colab": {
          "base_uri": "https://localhost:8080/",
          "height": 35
        }
      },
      "source": [
        "import string\n",
        "alp = string.ascii_lowercase\n",
        "def shift_str(string1):\n",
        "    return ''.join([alp[(alp.index(letter) + 5) % 26] for letter in string1])\n",
        "\n",
        "shift_str('xzatsai')"
      ],
      "execution_count": 50,
      "outputs": [
        {
          "output_type": "execute_result",
          "data": {
            "application/vnd.google.colaboratory.intrinsic+json": {
              "type": "string"
            },
            "text/plain": [
              "'cefyxfn'"
            ]
          },
          "metadata": {
            "tags": []
          },
          "execution_count": 50
        }
      ]
    },
    {
      "cell_type": "markdown",
      "metadata": {
        "id": "u0cv0yv6bmGC"
      },
      "source": [
        "### __3.__ A list comprehension expression that takes a ~200 word paragraph (write your own paragraph to check), and checks whether it has any of the swear words mentioned [here](https://raw.githubusercontent.com/RobertJGabriel/Google-profanity-words/master/list.txt) "
      ]
    },
    {
      "cell_type": "code",
      "metadata": {
        "id": "pmWlYfOgbodY"
      },
      "source": [
        "import re\n",
        "import string\n",
        "\n",
        "!wget -q https://raw.githubusercontent.com/RobertJGabriel/Google-profanity-words/master/list.txt\n",
        "\n",
        "with open(\"list.txt\", \"r\") as f:\n",
        "    swearwords = f.readlines()\n",
        "swearwords = [word.strip() for word in swearwords]\n",
        "\n",
        "def check_swearwords(para, swearwords):\n",
        "    \"\"\"\n",
        "        Returns True if there are any swear words, else False\n",
        "    \"\"\"\n",
        "    preprocessed = map(lambda x:x.lower(), re.split('\\W+', para))\n",
        "    return any([word in swearwords for word in preprocessed])\n"
      ],
      "execution_count": 154,
      "outputs": []
    },
    {
      "cell_type": "code",
      "metadata": {
        "id": "FhqULcrZ4J-g",
        "outputId": "40a208e1-7f5e-44c3-eebe-7447c2dc7f47",
        "colab": {
          "base_uri": "https://localhost:8080/"
        }
      },
      "source": [
        "para = \"\"\"SHITHEAD TURD-SANDWICH US President Donald Trump's astonishing \n",
        "\"victory\" speech at 2.30am, his family joined him at the White House. \n",
        "Calling the election \"a fraud on the American people\" by his rival Democrats,\n",
        "President Trump declared that he would go to the Supreme Court to dispute the\n",
        "counting of votes. As the 74-year-old falsely declared victory even though \n",
        "millions of votes remain uncounted, his family cheered him on.\"\"\"\n",
        "\n",
        "check_swearwords(para, swearwords)"
      ],
      "execution_count": 159,
      "outputs": [
        {
          "output_type": "execute_result",
          "data": {
            "text/plain": [
              "True"
            ]
          },
          "metadata": {
            "tags": []
          },
          "execution_count": 159
        }
      ]
    },
    {
      "cell_type": "markdown",
      "metadata": {
        "id": "Z51lXuYsk_Xp"
      },
      "source": [
        "### __4.__ Using reduce functions:"
      ]
    },
    {
      "cell_type": "markdown",
      "metadata": {
        "id": "cTtfkcm6lBXI"
      },
      "source": [
        "1. add only even numbers in a list"
      ]
    },
    {
      "cell_type": "code",
      "metadata": {
        "id": "WGQqH-U_k-0r",
        "outputId": "e584789d-7b0e-49d1-cb90-f99ed42ca9b1",
        "colab": {
          "base_uri": "https://localhost:8080/"
        }
      },
      "source": [
        "from functools import reduce\n",
        "def add_even(list1):\n",
        "    return reduce(lambda a, b: (a+b) if (a % 2 == 0 and b % 2 == 0) \n",
        "                                     else (b if a % 2 == 1 else a), list1 )\n",
        "\n",
        "add_even([1,2,3,4,5,6])"
      ],
      "execution_count": 128,
      "outputs": [
        {
          "output_type": "execute_result",
          "data": {
            "text/plain": [
              "12"
            ]
          },
          "metadata": {
            "tags": []
          },
          "execution_count": 128
        }
      ]
    },
    {
      "cell_type": "markdown",
      "metadata": {
        "id": "W5nt20QCsIv4"
      },
      "source": [
        "2. find the biggest character in a string (printable ascii characters)"
      ]
    },
    {
      "cell_type": "code",
      "metadata": {
        "id": "WQsJvdo-sI9g",
        "outputId": "7e150758-a6b2-4c8f-b3ee-db533a48936d",
        "colab": {
          "base_uri": "https://localhost:8080/",
          "height": 35
        }
      },
      "source": [
        "def big_char(string):\n",
        "    return chr(reduce(lambda x, y: x if x > y \n",
        "                                     else y, [ord(c) for c in string]))\n",
        "\n",
        "big_char(\"aaHHHK$%^##~\")"
      ],
      "execution_count": 129,
      "outputs": [
        {
          "output_type": "execute_result",
          "data": {
            "application/vnd.google.colaboratory.intrinsic+json": {
              "type": "string"
            },
            "text/plain": [
              "'~'"
            ]
          },
          "metadata": {
            "tags": []
          },
          "execution_count": 129
        }
      ]
    },
    {
      "cell_type": "markdown",
      "metadata": {
        "id": "DHUZmAUYsK77"
      },
      "source": [
        "3. adds every 3rd number in a list"
      ]
    },
    {
      "cell_type": "code",
      "metadata": {
        "id": "fLpLWVn3sLC8",
        "outputId": "9ff11ecc-a63c-4495-a04d-030c34328019",
        "colab": {
          "base_uri": "https://localhost:8080/"
        }
      },
      "source": [
        "def add_third(list1):\n",
        "    list1 = list1.copy()  # keeping a copy to not change the original list\n",
        "    list1.insert(0,0)     # Insert 0 at the start to suit the folding logic\n",
        "    return reduce(lambda a, b: a+b if (list1.index(b) % 3 == 0) \n",
        "                                   else a, list1)\n",
        "\n",
        "add_third([1,2,3,4,5,6,7,8,9])"
      ],
      "execution_count": 151,
      "outputs": [
        {
          "output_type": "execute_result",
          "data": {
            "text/plain": [
              "18"
            ]
          },
          "metadata": {
            "tags": []
          },
          "execution_count": 151
        }
      ]
    },
    {
      "cell_type": "markdown",
      "metadata": {
        "id": "CExlEvdXyQlc"
      },
      "source": [
        "### __5.__ Using randint, random.choice and list comprehensions, write an expression that generates 15 random KADDAADDDD number plates, where KA is fixed, D stands for a digit, and A stands for Capital alphabets. 10<<DD<<99 & 1000<<DDDD<<9999"
      ]
    },
    {
      "cell_type": "code",
      "metadata": {
        "id": "YQYQzGJVyQqw",
        "outputId": "aeeb3cc5-0f58-45ee-92d9-befc1f1aa906",
        "colab": {
          "base_uri": "https://localhost:8080/"
        }
      },
      "source": [
        "import random\n",
        "import string\n",
        "uc_alp = string.ascii_uppercase\n",
        "\n",
        "def generate_reg_nos(n):\n",
        "    return [\"KA {} {} {}\".format(random.randint(10,99), \n",
        "                              random.choice(uc_alp)+random.choice(uc_alp), \n",
        "                              random.randint(1000,9999)) \n",
        "            for _ in range(n)]\n",
        "\n",
        "generate_reg_nos(15)"
      ],
      "execution_count": 137,
      "outputs": [
        {
          "output_type": "execute_result",
          "data": {
            "text/plain": [
              "['KA 77 EP 7167',\n",
              " 'KA 44 SB 2936',\n",
              " 'KA 48 CB 4425',\n",
              " 'KA 28 IB 3198',\n",
              " 'KA 81 PY 9210',\n",
              " 'KA 91 UP 2295',\n",
              " 'KA 18 HV 8956',\n",
              " 'KA 93 HN 7632',\n",
              " 'KA 32 BT 4872',\n",
              " 'KA 10 XV 2085',\n",
              " 'KA 58 NL 2128',\n",
              " 'KA 58 PK 3659',\n",
              " 'KA 95 YC 5756',\n",
              " 'KA 43 MQ 6505',\n",
              " 'KA 11 WL 6195']"
            ]
          },
          "metadata": {
            "tags": []
          },
          "execution_count": 137
        }
      ]
    },
    {
      "cell_type": "markdown",
      "metadata": {
        "id": "dPOE1rop0dJ0"
      },
      "source": [
        "### __6.__ Write the above again from scratch where KA can be changed to DL, and 1000/9999 ranges can be provided."
      ]
    },
    {
      "cell_type": "code",
      "metadata": {
        "id": "ijkIafBM0dSE",
        "outputId": "04ff874b-e5c3-4e9e-d2fb-0bbb588c83c0",
        "colab": {
          "base_uri": "https://localhost:8080/"
        }
      },
      "source": [
        "import random\n",
        "import string\n",
        "uc_alp = string.ascii_uppercase\n",
        "\n",
        "def generate_reg_nos(n, state=\"KA\" ,start=1000, end=9999):\n",
        "    return [\"{} {} {} {}\".format(state,\n",
        "                              random.randint(10,99), \n",
        "                              random.choice(uc_alp)+random.choice(uc_alp), \n",
        "                              random.randint(start,end)) \n",
        "            for _ in range(n)]\n",
        "\n",
        "generate_reg_nos(25, \"DL\", 6000, 6500)"
      ],
      "execution_count": 136,
      "outputs": [
        {
          "output_type": "execute_result",
          "data": {
            "text/plain": [
              "['DL 93 MT 6378',\n",
              " 'DL 13 NX 6183',\n",
              " 'DL 22 ZY 6426',\n",
              " 'DL 26 MT 6289',\n",
              " 'DL 41 BD 6133',\n",
              " 'DL 85 MC 6500',\n",
              " 'DL 70 FS 6245',\n",
              " 'DL 71 UT 6008',\n",
              " 'DL 80 TW 6375',\n",
              " 'DL 93 JU 6330',\n",
              " 'DL 51 XF 6348',\n",
              " 'DL 76 TI 6109',\n",
              " 'DL 29 YX 6127',\n",
              " 'DL 53 FV 6027',\n",
              " 'DL 45 KI 6448',\n",
              " 'DL 76 TR 6307',\n",
              " 'DL 80 NY 6244',\n",
              " 'DL 79 NM 6003',\n",
              " 'DL 47 VN 6232',\n",
              " 'DL 83 DK 6320',\n",
              " 'DL 10 CA 6114',\n",
              " 'DL 50 MH 6240',\n",
              " 'DL 23 UW 6449',\n",
              " 'DL 60 ZT 6386',\n",
              " 'DL 68 YL 6078']"
            ]
          },
          "metadata": {
            "tags": []
          },
          "execution_count": 136
        }
      ]
    }
  ]
}