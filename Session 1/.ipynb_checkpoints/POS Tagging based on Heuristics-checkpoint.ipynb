{
 "cells": [
  {
   "cell_type": "markdown",
   "metadata": {
    "id": "mM0Ka5OWjTtn"
   },
   "source": [
    "##Import necessary Libraries"
   ]
  },
  {
   "cell_type": "code",
   "execution_count": 1,
   "metadata": {
    "cellView": "both",
    "id": "HUkH-XafjF18"
   },
   "outputs": [
    {
     "name": "stderr",
     "output_type": "stream",
     "text": [
      "[nltk_data] Downloading package punkt to\n",
      "[nltk_data]     C:\\Users\\harsh\\AppData\\Roaming\\nltk_data...\n",
      "[nltk_data]   Unzipping tokenizers\\punkt.zip.\n",
      "[nltk_data] Downloading package averaged_perceptron_tagger to\n",
      "[nltk_data]     C:\\Users\\harsh\\AppData\\Roaming\\nltk_data...\n",
      "[nltk_data]   Unzipping taggers\\averaged_perceptron_tagger.zip.\n"
     ]
    },
    {
     "data": {
      "text/plain": [
       "True"
      ]
     },
     "execution_count": 1,
     "metadata": {},
     "output_type": "execute_result"
    }
   ],
   "source": [
    "import nltk\n",
    "from nltk.tokenize import word_tokenize\n",
    "from nltk.tag import pos_tag\n",
    "from nltk.chunk import ne_chunk\n",
    "nltk.download('punkt')\n",
    "nltk.download('averaged_perceptron_tagger')"
   ]
  },
  {
   "cell_type": "markdown",
   "metadata": {
    "id": "CnfJWQfEjn89"
   },
   "source": [
    "## A sentence under consideration for Information Extraction (NER)"
   ]
  },
  {
   "cell_type": "code",
   "execution_count": 2,
   "metadata": {
    "id": "1nOjV-QMjlBF"
   },
   "outputs": [],
   "source": [
    "sentence = 'Virat Kohli is an Indian cricketer who currently captains the India national team. A right-handed top-order batsman, Kohli is regarded as one of the best batsmen in the world'"
   ]
  },
  {
   "cell_type": "markdown",
   "metadata": {
    "id": "wwc64Wajjv95"
   },
   "source": [
    "## Apply word tokenization and part-of-speech tagging to the sentence"
   ]
  },
  {
   "cell_type": "code",
   "execution_count": 7,
   "metadata": {
    "id": "rrJPkc2MjtwW"
   },
   "outputs": [],
   "source": [
    "def preprocess(sent):\n",
    "    sent =  word_tokenize(sent)# TOKENIZE THE SENTENCE\n",
    "    sent = pos_tag(sent)# GET POS TAG OF THE SENTENCE\n",
    "    return sent"
   ]
  },
  {
   "cell_type": "code",
   "execution_count": 8,
   "metadata": {
    "id": "xKv51GotjyZU"
   },
   "outputs": [
    {
     "data": {
      "text/plain": [
       "[('Virat', 'NNP'),\n",
       " ('Kohli', 'NNP'),\n",
       " ('is', 'VBZ'),\n",
       " ('an', 'DT'),\n",
       " ('Indian', 'JJ'),\n",
       " ('cricketer', 'NN'),\n",
       " ('who', 'WP'),\n",
       " ('currently', 'RB'),\n",
       " ('captains', 'VBZ'),\n",
       " ('the', 'DT'),\n",
       " ('India', 'NNP'),\n",
       " ('national', 'JJ'),\n",
       " ('team', 'NN'),\n",
       " ('.', '.'),\n",
       " ('A', 'DT'),\n",
       " ('right-handed', 'JJ'),\n",
       " ('top-order', 'NN'),\n",
       " ('batsman', 'NN'),\n",
       " (',', ','),\n",
       " ('Kohli', 'NNP'),\n",
       " ('is', 'VBZ'),\n",
       " ('regarded', 'VBN'),\n",
       " ('as', 'IN'),\n",
       " ('one', 'CD'),\n",
       " ('of', 'IN'),\n",
       " ('the', 'DT'),\n",
       " ('best', 'JJS'),\n",
       " ('batsmen', 'NNS'),\n",
       " ('in', 'IN'),\n",
       " ('the', 'DT'),\n",
       " ('world', 'NN')]"
      ]
     },
     "execution_count": 8,
     "metadata": {},
     "output_type": "execute_result"
    }
   ],
   "source": [
    "sent = preprocess(sentence)\n",
    "sent"
   ]
  },
  {
   "cell_type": "markdown",
   "metadata": {
    "id": "5ZfnCIBOlP32"
   },
   "source": [
    "## Plot a Parse Tree"
   ]
  },
  {
   "cell_type": "code",
   "execution_count": 10,
   "metadata": {
    "id": "3SFMBOJhj0kD"
   },
   "outputs": [],
   "source": [
    "pattern = 'NP: {<DT>?<JJ>*<NN>}'\n",
    "NPChunker =  nltk.RegexpParser(pattern)# Regex Parse using the pattern\n",
    "result = NPChunker.parse(sent)\n",
    "result.draw()"
   ]
  },
  {
   "cell_type": "markdown",
   "metadata": {
    "id": "mzfWmM0s3qLQ"
   },
   "source": [
    "## POS Tags"
   ]
  },
  {
   "cell_type": "code",
   "execution_count": 17,
   "metadata": {
    "id": "6lUv0-IX0V-v"
   },
   "outputs": [
    {
     "name": "stdout",
     "output_type": "stream",
     "text": [
      "[('Virat', 'NNP', 'O'),\n",
      " ('Kohli', 'NNP', 'O'),\n",
      " ('is', 'VBZ', 'O'),\n",
      " ('an', 'DT', 'B-NP'),\n",
      " ('Indian', 'JJ', 'I-NP'),\n",
      " ('cricketer', 'NN', 'I-NP'),\n",
      " ('who', 'WP', 'O'),\n",
      " ('currently', 'RB', 'O'),\n",
      " ('captains', 'VBZ', 'O'),\n",
      " ('the', 'DT', 'O'),\n",
      " ('India', 'NNP', 'O'),\n",
      " ('national', 'JJ', 'B-NP'),\n",
      " ('team', 'NN', 'I-NP'),\n",
      " ('.', '.', 'O'),\n",
      " ('A', 'DT', 'B-NP'),\n",
      " ('right-handed', 'JJ', 'I-NP'),\n",
      " ('top-order', 'NN', 'I-NP'),\n",
      " ('batsman', 'NN', 'B-NP'),\n",
      " (',', ',', 'O'),\n",
      " ('Kohli', 'NNP', 'O'),\n",
      " ('is', 'VBZ', 'O'),\n",
      " ('regarded', 'VBN', 'O'),\n",
      " ('as', 'IN', 'O'),\n",
      " ('one', 'CD', 'O'),\n",
      " ('of', 'IN', 'O'),\n",
      " ('the', 'DT', 'O'),\n",
      " ('best', 'JJS', 'O'),\n",
      " ('batsmen', 'NNS', 'O'),\n",
      " ('in', 'IN', 'O'),\n",
      " ('the', 'DT', 'B-NP'),\n",
      " ('world', 'NN', 'I-NP')]\n"
     ]
    }
   ],
   "source": [
    "from nltk.chunk import conlltags2tree, tree2conlltags\n",
    "from pprint import pprint\n",
    "iob_tagged = tree2conlltags(result)\n",
    "pprint(iob_tagged)"
   ]
  },
  {
   "cell_type": "markdown",
   "metadata": {
    "id": "GsWTk0dX4DN8"
   },
   "source": [
    "**This is how Information is extracted using heuristics based techniques. Try using another pattern.**"
   ]
  },
  {
   "cell_type": "code",
   "execution_count": 29,
   "metadata": {},
   "outputs": [
    {
     "data": {
      "text/plain": [
       "['a',\n",
       " 'aaaaaaaaaaaaaaaaa',\n",
       " 'aaahhhh',\n",
       " 'ah',\n",
       " 'ahah',\n",
       " 'ahahah',\n",
       " 'ahh',\n",
       " 'ahhahahaha',\n",
       " 'ahhh',\n",
       " 'ahhhh',\n",
       " 'ahhhhhh',\n",
       " 'ahhhhhhhhhhhhhh',\n",
       " 'h',\n",
       " 'ha',\n",
       " 'haaa',\n",
       " 'hah',\n",
       " 'haha',\n",
       " 'hahaaa',\n",
       " 'hahah',\n",
       " 'hahaha',\n",
       " 'hahahaa',\n",
       " 'hahahah',\n",
       " 'hahahaha',\n",
       " 'hahahahaaa',\n",
       " 'hahahahahaha',\n",
       " 'hahahahahahaha',\n",
       " 'hahahahahahahahahahahahahahahaha',\n",
       " 'hahahhahah',\n",
       " 'hahhahahaha']"
      ]
     },
     "execution_count": 29,
     "metadata": {},
     "output_type": "execute_result"
    }
   ],
   "source": [
    "import re\n",
    "nltk.download('nps_chat')\n",
    "\n",
    "chat_words = sorted(set(w for w in nltk.corpus.nps_chat.words()))\n",
    "len(chat_words)\n",
    "[w for w in chat_words if re.search('^[ha]+$', w)]"
   ]
  }
 ],
 "metadata": {
  "colab": {
   "authorship_tag": "ABX9TyNEzjYV9cbHTds4eCmnTVo1",
   "collapsed_sections": [],
   "name": "POS Tagging based on Heuristics.ipynb",
   "provenance": []
  },
  "kernelspec": {
   "display_name": "Python 3",
   "language": "python",
   "name": "python3"
  },
  "language_info": {
   "codemirror_mode": {
    "name": "ipython",
    "version": 3
   },
   "file_extension": ".py",
   "mimetype": "text/x-python",
   "name": "python",
   "nbconvert_exporter": "python",
   "pygments_lexer": "ipython3",
   "version": "3.7.6"
  }
 },
 "nbformat": 4,
 "nbformat_minor": 1
}
